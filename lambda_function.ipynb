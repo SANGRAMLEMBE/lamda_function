{
 "cells": [
  {
   "cell_type": "code",
   "execution_count": 1,
   "id": "03221887-89df-44c0-a4d2-f26a21e6b904",
   "metadata": {},
   "outputs": [],
   "source": [
    "n=3\n",
    "p=2\n"
   ]
  },
  {
   "cell_type": "code",
   "execution_count": 2,
   "id": "70a2cc72-cfc3-413d-a2b1-6da786be8f67",
   "metadata": {},
   "outputs": [],
   "source": [
    "def test(n,p):\n",
    "    return n**p"
   ]
  },
  {
   "cell_type": "code",
   "execution_count": 9,
   "id": "2d6e1489-ed7d-4630-be3f-f36de93d4d5f",
   "metadata": {},
   "outputs": [
    {
     "data": {
      "text/plain": [
       "9"
      ]
     },
     "execution_count": 9,
     "metadata": {},
     "output_type": "execute_result"
    }
   ],
   "source": [
    "test(3,2)"
   ]
  },
  {
   "cell_type": "code",
   "execution_count": 10,
   "id": "dd4cea6a-69dc-4bf6-94bb-dfdb9c024385",
   "metadata": {},
   "outputs": [],
   "source": [
    "a = lambda n,p:n**p"
   ]
  },
  {
   "cell_type": "code",
   "execution_count": 11,
   "id": "507f318e-5b8b-4588-a509-e3190d87e121",
   "metadata": {},
   "outputs": [
    {
     "data": {
      "text/plain": [
       "8"
      ]
     },
     "execution_count": 11,
     "metadata": {},
     "output_type": "execute_result"
    }
   ],
   "source": [
    "a(2,3)"
   ]
  },
  {
   "cell_type": "code",
   "execution_count": 13,
   "id": "cd2fa0ae-09e2-4e47-9222-c0b1f945c29f",
   "metadata": {},
   "outputs": [],
   "source": [
    "add = lambda x,y :x+y"
   ]
  },
  {
   "cell_type": "code",
   "execution_count": 14,
   "id": "4a501cb4-3043-4a89-a12a-f4dcd5498935",
   "metadata": {},
   "outputs": [
    {
     "data": {
      "text/plain": [
       "9"
      ]
     },
     "execution_count": 14,
     "metadata": {},
     "output_type": "execute_result"
    }
   ],
   "source": [
    "add(4,5)"
   ]
  },
  {
   "cell_type": "code",
   "execution_count": 15,
   "id": "adee2173-dbc9-4410-ac43-e8b94892be49",
   "metadata": {},
   "outputs": [],
   "source": [
    "c_to_f = lambda c:(9/5)*c +32"
   ]
  },
  {
   "cell_type": "code",
   "execution_count": 18,
   "id": "8c08cc26-1b50-4238-abf6-7cd0c344d1ac",
   "metadata": {},
   "outputs": [
    {
     "data": {
      "text/plain": [
       "212.0"
      ]
     },
     "execution_count": 18,
     "metadata": {},
     "output_type": "execute_result"
    }
   ],
   "source": [
    "c_to_f(100)"
   ]
  },
  {
   "cell_type": "code",
   "execution_count": 19,
   "id": "0cca52e5-d28e-4425-8885-ae9c990474f2",
   "metadata": {},
   "outputs": [],
   "source": [
    "finding_max=lambda x,y : x if x>y else y"
   ]
  },
  {
   "cell_type": "code",
   "execution_count": 20,
   "id": "a42f94c9-f188-409a-a655-9d55bb7833c4",
   "metadata": {},
   "outputs": [
    {
     "data": {
      "text/plain": [
       "34"
      ]
     },
     "execution_count": 20,
     "metadata": {},
     "output_type": "execute_result"
    }
   ],
   "source": [
    "finding_max(34,23)"
   ]
  },
  {
   "cell_type": "code",
   "execution_count": 21,
   "id": "ed1700d0-cd67-49d9-ac8e-ff99c817de67",
   "metadata": {},
   "outputs": [],
   "source": [
    "s=\"pwskills\""
   ]
  },
  {
   "cell_type": "code",
   "execution_count": 22,
   "id": "af3ad129-6e93-4c8b-8fde-45f7c2701ff7",
   "metadata": {},
   "outputs": [],
   "source": [
    "find_lenth =lambda s:len(s)"
   ]
  },
  {
   "cell_type": "code",
   "execution_count": 23,
   "id": "d3f0533e-1ad5-4785-b9cf-578f80a5e30c",
   "metadata": {},
   "outputs": [
    {
     "data": {
      "text/plain": [
       "8"
      ]
     },
     "execution_count": 23,
     "metadata": {},
     "output_type": "execute_result"
    }
   ],
   "source": [
    "find_lenth(s)"
   ]
  },
  {
   "cell_type": "code",
   "execution_count": null,
   "id": "6984677f-e98e-4270-91ff-1f4b286a042a",
   "metadata": {},
   "outputs": [],
   "source": []
  }
 ],
 "metadata": {
  "kernelspec": {
   "display_name": "Python 3 (ipykernel)",
   "language": "python",
   "name": "python3"
  },
  "language_info": {
   "codemirror_mode": {
    "name": "ipython",
    "version": 3
   },
   "file_extension": ".py",
   "mimetype": "text/x-python",
   "name": "python",
   "nbconvert_exporter": "python",
   "pygments_lexer": "ipython3",
   "version": "3.10.8"
  }
 },
 "nbformat": 4,
 "nbformat_minor": 5
}
